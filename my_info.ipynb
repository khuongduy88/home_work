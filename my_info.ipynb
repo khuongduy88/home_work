{
 "cells": [
  {
   "cell_type": "code",
   "execution_count": 1,
   "id": "be7d4817",
   "metadata": {},
   "outputs": [
    {
     "name": "stdout",
     "output_type": "stream",
     "text": [
      "ho va ten: Nguyen Van Duy\n",
      "34 tuoi\n",
      " thanks all\n"
     ]
    }
   ],
   "source": [
    "print(\"ho va ten: Nguyen Van Duy\")\n",
    "print(\"34 tuoi\")\n",
    "print(\" thanks all\")"
   ]
  },
  {
   "cell_type": "code",
   "execution_count": 2,
   "id": "85f203a4",
   "metadata": {},
   "outputs": [
    {
     "name": "stdout",
     "output_type": "stream",
     "text": [
      "Initialized empty Git repository in /Users/nguyenvanduy/home_work/.git/\r\n"
     ]
    }
   ],
   "source": [
    "!git init"
   ]
  },
  {
   "cell_type": "code",
   "execution_count": null,
   "id": "03c4e754",
   "metadata": {},
   "outputs": [],
   "source": []
  }
 ],
 "metadata": {
  "kernelspec": {
   "display_name": "Python 3 (ipykernel)",
   "language": "python",
   "name": "python3"
  },
  "language_info": {
   "codemirror_mode": {
    "name": "ipython",
    "version": 3
   },
   "file_extension": ".py",
   "mimetype": "text/x-python",
   "name": "python",
   "nbconvert_exporter": "python",
   "pygments_lexer": "ipython3",
   "version": "3.9.12"
  }
 },
 "nbformat": 4,
 "nbformat_minor": 5
}
